{
 "cells": [
  {
   "cell_type": "markdown",
   "id": "96e4af83-87d2-4879-b66c-709f03c0e70e",
   "metadata": {},
   "source": [
    "<h1 style=\"color:red; text-align:center;\">Zomato Data Analysis</h1>"
   ]
  },
  {
   "cell_type": "markdown",
   "id": "efe93b12-4757-4dd8-bcd0-d7b9696f5203",
   "metadata": {},
   "source": [
    "#### Importing Libraries"
   ]
  },
  {
   "cell_type": "code",
   "execution_count": 1,
   "id": "1e862921-ded6-47cd-b5b9-98e7c9d32838",
   "metadata": {},
   "outputs": [],
   "source": [
    "import pandas as pd\n",
    "import numpy as np\n",
    "import matplotlib.pyplot as plt\n",
    "import seaborn as sns"
   ]
  },
  {
   "cell_type": "markdown",
   "id": "74995c02-a223-4ec5-afdb-ac44639b0a5c",
   "metadata": {},
   "source": [
    "#### Importing Dataset"
   ]
  },
  {
   "cell_type": "code",
   "execution_count": null,
   "id": "13fd703d-8083-4e35-8906-206f83039d68",
   "metadata": {},
   "outputs": [],
   "source": [
    "data = pd.read_csv(r\"C:\\Users\\hrith\\Downloads\\archive (3)\\BangaloreZomatoData.csv\")"
   ]
  },
  {
   "cell_type": "markdown",
   "id": "cc3aa742-3e39-4960-818e-9ab622254643",
   "metadata": {},
   "source": [
    "#### Exploring the dataset"
   ]
  },
  {
   "cell_type": "code",
   "execution_count": 3,
   "id": "6b37a44a-ce13-465d-a2b8-991867083b5d",
   "metadata": {},
   "outputs": [
    {
     "data": {
      "text/html": [
       "<div>\n",
       "<style scoped>\n",
       "    .dataframe tbody tr th:only-of-type {\n",
       "        vertical-align: middle;\n",
       "    }\n",
       "\n",
       "    .dataframe tbody tr th {\n",
       "        vertical-align: top;\n",
       "    }\n",
       "\n",
       "    .dataframe thead th {\n",
       "        text-align: right;\n",
       "    }\n",
       "</style>\n",
       "<table border=\"1\" class=\"dataframe\">\n",
       "  <thead>\n",
       "    <tr style=\"text-align: right;\">\n",
       "      <th></th>\n",
       "      <th>Name</th>\n",
       "      <th>URL</th>\n",
       "      <th>Cuisines</th>\n",
       "      <th>Area</th>\n",
       "      <th>Timing</th>\n",
       "      <th>Full_Address</th>\n",
       "      <th>PhoneNumber</th>\n",
       "      <th>IsHomeDelivery</th>\n",
       "      <th>isTakeaway</th>\n",
       "      <th>isIndoorSeating</th>\n",
       "      <th>isVegOnly</th>\n",
       "      <th>Dinner Ratings</th>\n",
       "      <th>Dinner Reviews</th>\n",
       "      <th>Delivery Ratings</th>\n",
       "      <th>Delivery Reviews</th>\n",
       "      <th>KnownFor</th>\n",
       "      <th>PopularDishes</th>\n",
       "      <th>PeopleKnownFor</th>\n",
       "      <th>AverageCost</th>\n",
       "    </tr>\n",
       "  </thead>\n",
       "  <tbody>\n",
       "    <tr>\n",
       "      <th>0</th>\n",
       "      <td>Sri Udupi Park</td>\n",
       "      <td>https://www.zomato.com/bangalore/sri-udupi-par...</td>\n",
       "      <td>South Indian, North Indian, Chinese, Street Fo...</td>\n",
       "      <td>Indiranagar, Bangalore</td>\n",
       "      <td>7am – 11pm (Today)</td>\n",
       "      <td>273, Monalisa, 6th Main, 100 Feet Road, Indira...</td>\n",
       "      <td>+919945977774</td>\n",
       "      <td>1</td>\n",
       "      <td>1</td>\n",
       "      <td>1</td>\n",
       "      <td>1</td>\n",
       "      <td>4.0</td>\n",
       "      <td>462</td>\n",
       "      <td>4.1</td>\n",
       "      <td>16000</td>\n",
       "      <td>NaN</td>\n",
       "      <td>Filtered Coffee, Sambhar, Pav Bhaji, Gobi Manc...</td>\n",
       "      <td>Economical, Prompt Service, Hygiene, Quality F...</td>\n",
       "      <td>450</td>\n",
       "    </tr>\n",
       "    <tr>\n",
       "      <th>1</th>\n",
       "      <td>Meghana Foods</td>\n",
       "      <td>https://www.zomato.com/bangalore/meghana-foods...</td>\n",
       "      <td>Biryani, Andhra, North Indian, Seafood</td>\n",
       "      <td>Indiranagar, Bangalore</td>\n",
       "      <td>Opens at 6:30pm</td>\n",
       "      <td>544, First Floor, CMH Road, Near Indiranagar M...</td>\n",
       "      <td>+918041135050</td>\n",
       "      <td>1</td>\n",
       "      <td>1</td>\n",
       "      <td>1</td>\n",
       "      <td>0</td>\n",
       "      <td>4.3</td>\n",
       "      <td>1654</td>\n",
       "      <td>4.3</td>\n",
       "      <td>28600</td>\n",
       "      <td>Spicy Chicken Biryani</td>\n",
       "      <td>Authentic Hyderabadi Biryani, Paneer Biryani, ...</td>\n",
       "      <td>Boneless Chicken Biryani, Ample Seating Area, ...</td>\n",
       "      <td>700</td>\n",
       "    </tr>\n",
       "    <tr>\n",
       "      <th>2</th>\n",
       "      <td>Donne Biriyani House</td>\n",
       "      <td>https://www.zomato.com/bangalore/donne-biriyan...</td>\n",
       "      <td>Biryani</td>\n",
       "      <td>Indiranagar, Bangalore</td>\n",
       "      <td>11am – 11pm (Today)</td>\n",
       "      <td>8/ 9, 17th F Cross, 2nd Stage, Indiranagar, Ba...</td>\n",
       "      <td>+918861564169</td>\n",
       "      <td>1</td>\n",
       "      <td>1</td>\n",
       "      <td>1</td>\n",
       "      <td>0</td>\n",
       "      <td>3.9</td>\n",
       "      <td>411</td>\n",
       "      <td>3.5</td>\n",
       "      <td>33200</td>\n",
       "      <td>NaN</td>\n",
       "      <td>NaN</td>\n",
       "      <td>Great Recommendations, Nice Taste, Great Ambia...</td>\n",
       "      <td>300</td>\n",
       "    </tr>\n",
       "    <tr>\n",
       "      <th>3</th>\n",
       "      <td>Domino's Pizza</td>\n",
       "      <td>https://www.zomato.com/bangalore/dominos-pizza...</td>\n",
       "      <td>Pizza, Fast Food, Desserts</td>\n",
       "      <td>Indiranagar, Bangalore</td>\n",
       "      <td>10:57am – 12midnight (Today)</td>\n",
       "      <td>308, 2nd Stage, 100 Feet Road, Indiranagar, Ba...</td>\n",
       "      <td>+919916465787</td>\n",
       "      <td>1</td>\n",
       "      <td>1</td>\n",
       "      <td>1</td>\n",
       "      <td>0</td>\n",
       "      <td>2.4</td>\n",
       "      <td>422</td>\n",
       "      <td>4.4</td>\n",
       "      <td>8205</td>\n",
       "      <td>NaN</td>\n",
       "      <td>Barbeque Chicken Pizza, Choco Lava Cake, White...</td>\n",
       "      <td>Value for Money, Packaging, Staff, Ambience, Food</td>\n",
       "      <td>400</td>\n",
       "    </tr>\n",
       "    <tr>\n",
       "      <th>4</th>\n",
       "      <td>KFC</td>\n",
       "      <td>https://www.zomato.com/bangalore/kfc-indiranagar</td>\n",
       "      <td>Burger, Fast Food, Biryani, Desserts, Beverages</td>\n",
       "      <td>Indiranagar, Bangalore</td>\n",
       "      <td>11am – 11pm (Today)</td>\n",
       "      <td>38/1A, CMH Road, Indiranagar, Bangalore</td>\n",
       "      <td>+919513700040</td>\n",
       "      <td>1</td>\n",
       "      <td>1</td>\n",
       "      <td>1</td>\n",
       "      <td>0</td>\n",
       "      <td>2.8</td>\n",
       "      <td>673</td>\n",
       "      <td>4.0</td>\n",
       "      <td>9148</td>\n",
       "      <td>NaN</td>\n",
       "      <td>Fiery Chicken, Chicken Popcorn, Rice Bowl, Wings</td>\n",
       "      <td>Elegantly Decorated, Great Recommendations, Vi...</td>\n",
       "      <td>400</td>\n",
       "    </tr>\n",
       "    <tr>\n",
       "      <th>5</th>\n",
       "      <td>The Congee Concept</td>\n",
       "      <td>https://www.zomato.com/bangalore/the-congee-co...</td>\n",
       "      <td>South Indian</td>\n",
       "      <td>Ulsoor, Bangalore</td>\n",
       "      <td>NaN</td>\n",
       "      <td>26, Vemee Sadhana, 1st Main, Ulsoor, Bangalore</td>\n",
       "      <td>+918147222533</td>\n",
       "      <td>1</td>\n",
       "      <td>0</td>\n",
       "      <td>0</td>\n",
       "      <td>0</td>\n",
       "      <td>-</td>\n",
       "      <td>0</td>\n",
       "      <td>4.5</td>\n",
       "      <td>239</td>\n",
       "      <td>NaN</td>\n",
       "      <td>NaN</td>\n",
       "      <td>Fresh Food with Good Quality, Worth the Money,...</td>\n",
       "      <td>100</td>\n",
       "    </tr>\n",
       "    <tr>\n",
       "      <th>6</th>\n",
       "      <td>Burger King</td>\n",
       "      <td>https://www.zomato.com/bangalore/burger-king-i...</td>\n",
       "      <td>Burger, Fast Food, Beverages, Desserts</td>\n",
       "      <td>Indiranagar, Bangalore</td>\n",
       "      <td>9am – 2am (Today)</td>\n",
       "      <td>545, Next to CMH Metro Station, CMH Road, Indi...</td>\n",
       "      <td>+918043028019</td>\n",
       "      <td>1</td>\n",
       "      <td>1</td>\n",
       "      <td>1</td>\n",
       "      <td>0</td>\n",
       "      <td>4.1</td>\n",
       "      <td>1499</td>\n",
       "      <td>4.1</td>\n",
       "      <td>22400</td>\n",
       "      <td>High-quality, great-tasting and affordable Bur...</td>\n",
       "      <td>Crispy Spicy Chicken, Chilly Burger, Thick Man...</td>\n",
       "      <td>Bang for the Buck, Cozy Ambiance, Nice Crowd, ...</td>\n",
       "      <td>400</td>\n",
       "    </tr>\n",
       "    <tr>\n",
       "      <th>7</th>\n",
       "      <td>McDonald's</td>\n",
       "      <td>https://www.zomato.com/bangalore/mcdonalds-ind...</td>\n",
       "      <td>Burger, Beverages, Fast Food, Desserts</td>\n",
       "      <td>Indiranagar, Bangalore</td>\n",
       "      <td>9:30am – 1:30am (Today)</td>\n",
       "      <td>539, Ground Floor, Ashwini Complex, Opposite V...</td>\n",
       "      <td>+918928304094</td>\n",
       "      <td>1</td>\n",
       "      <td>1</td>\n",
       "      <td>1</td>\n",
       "      <td>0</td>\n",
       "      <td>3.8</td>\n",
       "      <td>500</td>\n",
       "      <td>4.1</td>\n",
       "      <td>7508</td>\n",
       "      <td>Their reasonably priced combos</td>\n",
       "      <td>Mcspicy Chicken, Mcspicy Paneer, Maharaja Mac,...</td>\n",
       "      <td>Casual Seating Area, Hygiene, Location, Friend...</td>\n",
       "      <td>400</td>\n",
       "    </tr>\n",
       "    <tr>\n",
       "      <th>8</th>\n",
       "      <td>Mani's Dum Biryani</td>\n",
       "      <td>https://www.zomato.com/manisindiranagar</td>\n",
       "      <td>Biryani, Kebab</td>\n",
       "      <td>Jeevan Bhima Nagar, Bangalore</td>\n",
       "      <td>11am – 11:45pm (Today)</td>\n",
       "      <td>474, Ground Floor, 10th Main, HAL 3rd Stage, J...</td>\n",
       "      <td>+918060001600</td>\n",
       "      <td>1</td>\n",
       "      <td>1</td>\n",
       "      <td>1</td>\n",
       "      <td>0</td>\n",
       "      <td>4.2</td>\n",
       "      <td>708</td>\n",
       "      <td>4.1</td>\n",
       "      <td>12700</td>\n",
       "      <td>It's flavourful Mutton Biryani.</td>\n",
       "      <td>Paneer Fry, Chicken 65, Egg Biryani, Mutton Bi...</td>\n",
       "      <td>Serving Size, Family Place, Decent Ambience, G...</td>\n",
       "      <td>800</td>\n",
       "    </tr>\n",
       "    <tr>\n",
       "      <th>9</th>\n",
       "      <td>Madras Meal Company</td>\n",
       "      <td>https://www.zomato.com/bangalore/madras-meal-c...</td>\n",
       "      <td>South Indian</td>\n",
       "      <td>Thippasandra, Bangalore</td>\n",
       "      <td>NaN</td>\n",
       "      <td>Jeevan Bhima Nagar Main Road, Ward 74, Shetty ...</td>\n",
       "      <td>+918045025371</td>\n",
       "      <td>1</td>\n",
       "      <td>0</td>\n",
       "      <td>0</td>\n",
       "      <td>0</td>\n",
       "      <td>-</td>\n",
       "      <td>0</td>\n",
       "      <td>4.0</td>\n",
       "      <td>2958</td>\n",
       "      <td>NaN</td>\n",
       "      <td>Tamilnadu Style, South Indian Meals, Gulab Jam...</td>\n",
       "      <td>Good Packaging, Excellent Food, Spill Proof Pa...</td>\n",
       "      <td>150</td>\n",
       "    </tr>\n",
       "  </tbody>\n",
       "</table>\n",
       "</div>"
      ],
      "text/plain": [
       "                   Name                                                URL  \\\n",
       "0        Sri Udupi Park  https://www.zomato.com/bangalore/sri-udupi-par...   \n",
       "1         Meghana Foods  https://www.zomato.com/bangalore/meghana-foods...   \n",
       "2  Donne Biriyani House  https://www.zomato.com/bangalore/donne-biriyan...   \n",
       "3        Domino's Pizza  https://www.zomato.com/bangalore/dominos-pizza...   \n",
       "4                   KFC   https://www.zomato.com/bangalore/kfc-indiranagar   \n",
       "5    The Congee Concept  https://www.zomato.com/bangalore/the-congee-co...   \n",
       "6           Burger King  https://www.zomato.com/bangalore/burger-king-i...   \n",
       "7            McDonald's  https://www.zomato.com/bangalore/mcdonalds-ind...   \n",
       "8    Mani's Dum Biryani            https://www.zomato.com/manisindiranagar   \n",
       "9   Madras Meal Company  https://www.zomato.com/bangalore/madras-meal-c...   \n",
       "\n",
       "                                            Cuisines  \\\n",
       "0  South Indian, North Indian, Chinese, Street Fo...   \n",
       "1             Biryani, Andhra, North Indian, Seafood   \n",
       "2                                            Biryani   \n",
       "3                         Pizza, Fast Food, Desserts   \n",
       "4    Burger, Fast Food, Biryani, Desserts, Beverages   \n",
       "5                                       South Indian   \n",
       "6             Burger, Fast Food, Beverages, Desserts   \n",
       "7             Burger, Beverages, Fast Food, Desserts   \n",
       "8                                     Biryani, Kebab   \n",
       "9                                       South Indian   \n",
       "\n",
       "                            Area                        Timing  \\\n",
       "0         Indiranagar, Bangalore            7am – 11pm (Today)   \n",
       "1         Indiranagar, Bangalore               Opens at 6:30pm   \n",
       "2         Indiranagar, Bangalore           11am – 11pm (Today)   \n",
       "3         Indiranagar, Bangalore  10:57am – 12midnight (Today)   \n",
       "4         Indiranagar, Bangalore           11am – 11pm (Today)   \n",
       "5              Ulsoor, Bangalore                           NaN   \n",
       "6         Indiranagar, Bangalore             9am – 2am (Today)   \n",
       "7         Indiranagar, Bangalore       9:30am – 1:30am (Today)   \n",
       "8  Jeevan Bhima Nagar, Bangalore        11am – 11:45pm (Today)   \n",
       "9        Thippasandra, Bangalore                           NaN   \n",
       "\n",
       "                                        Full_Address    PhoneNumber  \\\n",
       "0  273, Monalisa, 6th Main, 100 Feet Road, Indira...  +919945977774   \n",
       "1  544, First Floor, CMH Road, Near Indiranagar M...  +918041135050   \n",
       "2  8/ 9, 17th F Cross, 2nd Stage, Indiranagar, Ba...  +918861564169   \n",
       "3  308, 2nd Stage, 100 Feet Road, Indiranagar, Ba...  +919916465787   \n",
       "4            38/1A, CMH Road, Indiranagar, Bangalore  +919513700040   \n",
       "5     26, Vemee Sadhana, 1st Main, Ulsoor, Bangalore  +918147222533   \n",
       "6  545, Next to CMH Metro Station, CMH Road, Indi...  +918043028019   \n",
       "7  539, Ground Floor, Ashwini Complex, Opposite V...  +918928304094   \n",
       "8  474, Ground Floor, 10th Main, HAL 3rd Stage, J...  +918060001600   \n",
       "9  Jeevan Bhima Nagar Main Road, Ward 74, Shetty ...  +918045025371   \n",
       "\n",
       "   IsHomeDelivery  isTakeaway  isIndoorSeating  isVegOnly Dinner Ratings  \\\n",
       "0               1           1                1          1            4.0   \n",
       "1               1           1                1          0            4.3   \n",
       "2               1           1                1          0            3.9   \n",
       "3               1           1                1          0            2.4   \n",
       "4               1           1                1          0            2.8   \n",
       "5               1           0                0          0              -   \n",
       "6               1           1                1          0            4.1   \n",
       "7               1           1                1          0            3.8   \n",
       "8               1           1                1          0            4.2   \n",
       "9               1           0                0          0              -   \n",
       "\n",
       "   Dinner Reviews Delivery Ratings  Delivery Reviews  \\\n",
       "0             462              4.1             16000   \n",
       "1            1654              4.3             28600   \n",
       "2             411              3.5             33200   \n",
       "3             422              4.4              8205   \n",
       "4             673              4.0              9148   \n",
       "5               0              4.5               239   \n",
       "6            1499              4.1             22400   \n",
       "7             500              4.1              7508   \n",
       "8             708              4.1             12700   \n",
       "9               0              4.0              2958   \n",
       "\n",
       "                                            KnownFor  \\\n",
       "0                                                NaN   \n",
       "1                              Spicy Chicken Biryani   \n",
       "2                                                NaN   \n",
       "3                                                NaN   \n",
       "4                                                NaN   \n",
       "5                                                NaN   \n",
       "6  High-quality, great-tasting and affordable Bur...   \n",
       "7                     Their reasonably priced combos   \n",
       "8                    It's flavourful Mutton Biryani.   \n",
       "9                                                NaN   \n",
       "\n",
       "                                       PopularDishes  \\\n",
       "0  Filtered Coffee, Sambhar, Pav Bhaji, Gobi Manc...   \n",
       "1  Authentic Hyderabadi Biryani, Paneer Biryani, ...   \n",
       "2                                                NaN   \n",
       "3  Barbeque Chicken Pizza, Choco Lava Cake, White...   \n",
       "4   Fiery Chicken, Chicken Popcorn, Rice Bowl, Wings   \n",
       "5                                                NaN   \n",
       "6  Crispy Spicy Chicken, Chilly Burger, Thick Man...   \n",
       "7  Mcspicy Chicken, Mcspicy Paneer, Maharaja Mac,...   \n",
       "8  Paneer Fry, Chicken 65, Egg Biryani, Mutton Bi...   \n",
       "9  Tamilnadu Style, South Indian Meals, Gulab Jam...   \n",
       "\n",
       "                                      PeopleKnownFor  AverageCost  \n",
       "0  Economical, Prompt Service, Hygiene, Quality F...          450  \n",
       "1  Boneless Chicken Biryani, Ample Seating Area, ...          700  \n",
       "2  Great Recommendations, Nice Taste, Great Ambia...          300  \n",
       "3  Value for Money, Packaging, Staff, Ambience, Food          400  \n",
       "4  Elegantly Decorated, Great Recommendations, Vi...          400  \n",
       "5  Fresh Food with Good Quality, Worth the Money,...          100  \n",
       "6  Bang for the Buck, Cozy Ambiance, Nice Crowd, ...          400  \n",
       "7  Casual Seating Area, Hygiene, Location, Friend...          400  \n",
       "8  Serving Size, Family Place, Decent Ambience, G...          800  \n",
       "9  Good Packaging, Excellent Food, Spill Proof Pa...          150  "
      ]
     },
     "execution_count": 3,
     "metadata": {},
     "output_type": "execute_result"
    }
   ],
   "source": [
    "data.head(10)"
   ]
  },
  {
   "cell_type": "code",
   "execution_count": 4,
   "id": "7670cd77-7e7a-43e2-a6c0-ccc27593492c",
   "metadata": {},
   "outputs": [
    {
     "name": "stdout",
     "output_type": "stream",
     "text": [
      "<class 'pandas.core.frame.DataFrame'>\n",
      "RangeIndex: 8923 entries, 0 to 8922\n",
      "Data columns (total 19 columns):\n",
      " #   Column            Non-Null Count  Dtype \n",
      "---  ------            --------------  ----- \n",
      " 0   Name              8923 non-null   object\n",
      " 1   URL               8923 non-null   object\n",
      " 2   Cuisines          8923 non-null   object\n",
      " 3   Area              8923 non-null   object\n",
      " 4   Timing            5820 non-null   object\n",
      " 5   Full_Address      8923 non-null   object\n",
      " 6   PhoneNumber       8923 non-null   object\n",
      " 7   IsHomeDelivery    8923 non-null   int64 \n",
      " 8   isTakeaway        8923 non-null   int64 \n",
      " 9   isIndoorSeating   8923 non-null   int64 \n",
      " 10  isVegOnly         8923 non-null   int64 \n",
      " 11  Dinner Ratings    8923 non-null   object\n",
      " 12  Dinner Reviews    8923 non-null   int64 \n",
      " 13  Delivery Ratings  8923 non-null   object\n",
      " 14  Delivery Reviews  8923 non-null   int64 \n",
      " 15  KnownFor          258 non-null    object\n",
      " 16  PopularDishes     1535 non-null   object\n",
      " 17  PeopleKnownFor    3484 non-null   object\n",
      " 18  AverageCost       8923 non-null   int64 \n",
      "dtypes: int64(7), object(12)\n",
      "memory usage: 1.3+ MB\n"
     ]
    }
   ],
   "source": [
    "data.info()"
   ]
  },
  {
   "cell_type": "markdown",
   "id": "f48975e6-4709-4be3-98bb-fbf9660b39a5",
   "metadata": {},
   "source": [
    "#### Handling Missing Values"
   ]
  },
  {
   "cell_type": "code",
   "execution_count": 5,
   "id": "7ca3cff7-2ebd-4b76-be6d-c535f82bf6c4",
   "metadata": {},
   "outputs": [],
   "source": [
    "data.drop(['URL', 'Cuisines', 'Timing', 'Full_Address', 'PhoneNumber', 'KnownFor', 'PopularDishes', 'PeopleKnownFor'], axis = 1, inplace = True)"
   ]
  },
  {
   "cell_type": "code",
   "execution_count": 6,
   "id": "ab02b2aa-81eb-4fe5-89ff-49c99647e424",
   "metadata": {},
   "outputs": [
    {
     "data": {
      "text/plain": [
       "Name                0\n",
       "Area                0\n",
       "IsHomeDelivery      0\n",
       "isTakeaway          0\n",
       "isIndoorSeating     0\n",
       "isVegOnly           0\n",
       "Dinner Ratings      0\n",
       "Dinner Reviews      0\n",
       "Delivery Ratings    0\n",
       "Delivery Reviews    0\n",
       "AverageCost         0\n",
       "dtype: int64"
      ]
     },
     "execution_count": 6,
     "metadata": {},
     "output_type": "execute_result"
    }
   ],
   "source": [
    "data.isna().sum()"
   ]
  },
  {
   "cell_type": "code",
   "execution_count": 7,
   "id": "c0d8b2a7-3fe3-45fc-9660-d411b29b5503",
   "metadata": {},
   "outputs": [
    {
     "data": {
      "text/html": [
       "<div>\n",
       "<style scoped>\n",
       "    .dataframe tbody tr th:only-of-type {\n",
       "        vertical-align: middle;\n",
       "    }\n",
       "\n",
       "    .dataframe tbody tr th {\n",
       "        vertical-align: top;\n",
       "    }\n",
       "\n",
       "    .dataframe thead th {\n",
       "        text-align: right;\n",
       "    }\n",
       "</style>\n",
       "<table border=\"1\" class=\"dataframe\">\n",
       "  <thead>\n",
       "    <tr style=\"text-align: right;\">\n",
       "      <th></th>\n",
       "      <th>Name</th>\n",
       "      <th>Area</th>\n",
       "      <th>IsHomeDelivery</th>\n",
       "      <th>isTakeaway</th>\n",
       "      <th>isIndoorSeating</th>\n",
       "      <th>isVegOnly</th>\n",
       "      <th>Dinner Ratings</th>\n",
       "      <th>Dinner Reviews</th>\n",
       "      <th>Delivery Ratings</th>\n",
       "      <th>Delivery Reviews</th>\n",
       "      <th>AverageCost</th>\n",
       "    </tr>\n",
       "  </thead>\n",
       "  <tbody>\n",
       "    <tr>\n",
       "      <th>0</th>\n",
       "      <td>Sri Udupi Park</td>\n",
       "      <td>Indiranagar, Bangalore</td>\n",
       "      <td>1</td>\n",
       "      <td>1</td>\n",
       "      <td>1</td>\n",
       "      <td>1</td>\n",
       "      <td>4.0</td>\n",
       "      <td>462</td>\n",
       "      <td>4.1</td>\n",
       "      <td>16000</td>\n",
       "      <td>450</td>\n",
       "    </tr>\n",
       "    <tr>\n",
       "      <th>1</th>\n",
       "      <td>Meghana Foods</td>\n",
       "      <td>Indiranagar, Bangalore</td>\n",
       "      <td>1</td>\n",
       "      <td>1</td>\n",
       "      <td>1</td>\n",
       "      <td>0</td>\n",
       "      <td>4.3</td>\n",
       "      <td>1654</td>\n",
       "      <td>4.3</td>\n",
       "      <td>28600</td>\n",
       "      <td>700</td>\n",
       "    </tr>\n",
       "    <tr>\n",
       "      <th>2</th>\n",
       "      <td>Donne Biriyani House</td>\n",
       "      <td>Indiranagar, Bangalore</td>\n",
       "      <td>1</td>\n",
       "      <td>1</td>\n",
       "      <td>1</td>\n",
       "      <td>0</td>\n",
       "      <td>3.9</td>\n",
       "      <td>411</td>\n",
       "      <td>3.5</td>\n",
       "      <td>33200</td>\n",
       "      <td>300</td>\n",
       "    </tr>\n",
       "    <tr>\n",
       "      <th>3</th>\n",
       "      <td>Domino's Pizza</td>\n",
       "      <td>Indiranagar, Bangalore</td>\n",
       "      <td>1</td>\n",
       "      <td>1</td>\n",
       "      <td>1</td>\n",
       "      <td>0</td>\n",
       "      <td>2.4</td>\n",
       "      <td>422</td>\n",
       "      <td>4.4</td>\n",
       "      <td>8205</td>\n",
       "      <td>400</td>\n",
       "    </tr>\n",
       "    <tr>\n",
       "      <th>4</th>\n",
       "      <td>KFC</td>\n",
       "      <td>Indiranagar, Bangalore</td>\n",
       "      <td>1</td>\n",
       "      <td>1</td>\n",
       "      <td>1</td>\n",
       "      <td>0</td>\n",
       "      <td>2.8</td>\n",
       "      <td>673</td>\n",
       "      <td>4.0</td>\n",
       "      <td>9148</td>\n",
       "      <td>400</td>\n",
       "    </tr>\n",
       "  </tbody>\n",
       "</table>\n",
       "</div>"
      ],
      "text/plain": [
       "                   Name                    Area  IsHomeDelivery  isTakeaway  \\\n",
       "0        Sri Udupi Park  Indiranagar, Bangalore               1           1   \n",
       "1         Meghana Foods  Indiranagar, Bangalore               1           1   \n",
       "2  Donne Biriyani House  Indiranagar, Bangalore               1           1   \n",
       "3        Domino's Pizza  Indiranagar, Bangalore               1           1   \n",
       "4                   KFC  Indiranagar, Bangalore               1           1   \n",
       "\n",
       "   isIndoorSeating  isVegOnly Dinner Ratings  Dinner Reviews Delivery Ratings  \\\n",
       "0                1          1            4.0             462              4.1   \n",
       "1                1          0            4.3            1654              4.3   \n",
       "2                1          0            3.9             411              3.5   \n",
       "3                1          0            2.4             422              4.4   \n",
       "4                1          0            2.8             673              4.0   \n",
       "\n",
       "   Delivery Reviews  AverageCost  \n",
       "0             16000          450  \n",
       "1             28600          700  \n",
       "2             33200          300  \n",
       "3              8205          400  \n",
       "4              9148          400  "
      ]
     },
     "execution_count": 7,
     "metadata": {},
     "output_type": "execute_result"
    }
   ],
   "source": [
    "data.head()"
   ]
  },
  {
   "cell_type": "code",
   "execution_count": 8,
   "id": "52c4b66e-5599-48de-a089-daa14d6d6278",
   "metadata": {},
   "outputs": [],
   "source": [
    "data.drop_duplicates(inplace = True)"
   ]
  },
  {
   "cell_type": "code",
   "execution_count": 9,
   "id": "66202b94-514f-4c00-b1f9-855d5ed790ca",
   "metadata": {},
   "outputs": [
    {
     "name": "stdout",
     "output_type": "stream",
     "text": [
      "<class 'pandas.core.frame.DataFrame'>\n",
      "Index: 8922 entries, 0 to 8922\n",
      "Data columns (total 11 columns):\n",
      " #   Column            Non-Null Count  Dtype \n",
      "---  ------            --------------  ----- \n",
      " 0   Name              8922 non-null   object\n",
      " 1   Area              8922 non-null   object\n",
      " 2   IsHomeDelivery    8922 non-null   int64 \n",
      " 3   isTakeaway        8922 non-null   int64 \n",
      " 4   isIndoorSeating   8922 non-null   int64 \n",
      " 5   isVegOnly         8922 non-null   int64 \n",
      " 6   Dinner Ratings    8922 non-null   object\n",
      " 7   Dinner Reviews    8922 non-null   int64 \n",
      " 8   Delivery Ratings  8922 non-null   object\n",
      " 9   Delivery Reviews  8922 non-null   int64 \n",
      " 10  AverageCost       8922 non-null   int64 \n",
      "dtypes: int64(7), object(4)\n",
      "memory usage: 836.4+ KB\n"
     ]
    }
   ],
   "source": [
    "data.info()"
   ]
  },
  {
   "cell_type": "markdown",
   "id": "b933bcb9-9812-4985-be1f-a6effb7e68db",
   "metadata": {},
   "source": [
    "#### Formatting"
   ]
  },
  {
   "cell_type": "code",
   "execution_count": 11,
   "id": "ea89b182-14f3-46df-9e18-fcc075c80ea7",
   "metadata": {},
   "outputs": [],
   "source": [
    "data['IsHomeDelivery'] = data['IsHomeDelivery'].astype(dtype = 'object')\n",
    "data['isTakeaway'] = data['isTakeaway'].astype(dtype = 'object')\n",
    "data['isIndoorSeating'] = data['isIndoorSeating'].astype(dtype = 'object')\n",
    "data['isVegOnly'] = data['isVegOnly'].astype(dtype = 'object')"
   ]
  },
  {
   "cell_type": "code",
   "execution_count": 12,
   "id": "c9d13b8c-1f8a-4bc1-9f78-f13018246a7b",
   "metadata": {},
   "outputs": [],
   "source": [
    "data['Dinner Ratings'] = pd.to_numeric(data['Dinner Ratings'], errors='coerce')\n",
    "data['Delivery Ratings'] = pd.to_numeric(data['Delivery Ratings'], errors='coerce')"
   ]
  },
  {
   "cell_type": "code",
   "execution_count": 13,
   "id": "d2408946-ab8b-4d62-8d25-663b314a1d0f",
   "metadata": {},
   "outputs": [
    {
     "data": {
      "text/plain": [
       "Name                 object\n",
       "Area                 object\n",
       "IsHomeDelivery       object\n",
       "isTakeaway           object\n",
       "isIndoorSeating      object\n",
       "isVegOnly            object\n",
       "Dinner Ratings      float64\n",
       "Dinner Reviews        int64\n",
       "Delivery Ratings    float64\n",
       "Delivery Reviews      int64\n",
       "AverageCost           int64\n",
       "dtype: object"
      ]
     },
     "execution_count": 13,
     "metadata": {},
     "output_type": "execute_result"
    }
   ],
   "source": [
    "data.dtypes"
   ]
  },
  {
   "cell_type": "code",
   "execution_count": 14,
   "id": "adfce87c-ea9b-425a-ad59-18386ee63996",
   "metadata": {},
   "outputs": [],
   "source": [
    "def replace_values(values):\n",
    "    values = values.replace(\"1\", \"Yes\")\n",
    "    values = values.replace(\"0\", \"No\")\n",
    "    return values\n",
    "\n",
    "data['IsHomeDelivery'] = data['IsHomeDelivery'].astype(str).apply(replace_values)\n",
    "data['isTakeaway'] = data['isTakeaway'].astype(str).apply(replace_values)\n",
    "data['isIndoorSeating'] = data['isIndoorSeating'].astype(str).apply(replace_values)\n",
    "data['isVegOnly'] = data['isVegOnly'].astype(str).apply(replace_values)"
   ]
  },
  {
   "cell_type": "code",
   "execution_count": 15,
   "id": "ae4f78e0-2f72-404c-8872-e7883b991c63",
   "metadata": {},
   "outputs": [
    {
     "data": {
      "text/html": [
       "<div>\n",
       "<style scoped>\n",
       "    .dataframe tbody tr th:only-of-type {\n",
       "        vertical-align: middle;\n",
       "    }\n",
       "\n",
       "    .dataframe tbody tr th {\n",
       "        vertical-align: top;\n",
       "    }\n",
       "\n",
       "    .dataframe thead th {\n",
       "        text-align: right;\n",
       "    }\n",
       "</style>\n",
       "<table border=\"1\" class=\"dataframe\">\n",
       "  <thead>\n",
       "    <tr style=\"text-align: right;\">\n",
       "      <th></th>\n",
       "      <th>Name</th>\n",
       "      <th>Area</th>\n",
       "      <th>IsHomeDelivery</th>\n",
       "      <th>isTakeaway</th>\n",
       "      <th>isIndoorSeating</th>\n",
       "      <th>isVegOnly</th>\n",
       "      <th>Dinner Ratings</th>\n",
       "      <th>Dinner Reviews</th>\n",
       "      <th>Delivery Ratings</th>\n",
       "      <th>Delivery Reviews</th>\n",
       "      <th>AverageCost</th>\n",
       "    </tr>\n",
       "  </thead>\n",
       "  <tbody>\n",
       "    <tr>\n",
       "      <th>0</th>\n",
       "      <td>Sri Udupi Park</td>\n",
       "      <td>Indiranagar, Bangalore</td>\n",
       "      <td>Yes</td>\n",
       "      <td>Yes</td>\n",
       "      <td>Yes</td>\n",
       "      <td>Yes</td>\n",
       "      <td>4.0</td>\n",
       "      <td>462</td>\n",
       "      <td>4.1</td>\n",
       "      <td>16000</td>\n",
       "      <td>450</td>\n",
       "    </tr>\n",
       "    <tr>\n",
       "      <th>1</th>\n",
       "      <td>Meghana Foods</td>\n",
       "      <td>Indiranagar, Bangalore</td>\n",
       "      <td>Yes</td>\n",
       "      <td>Yes</td>\n",
       "      <td>Yes</td>\n",
       "      <td>No</td>\n",
       "      <td>4.3</td>\n",
       "      <td>1654</td>\n",
       "      <td>4.3</td>\n",
       "      <td>28600</td>\n",
       "      <td>700</td>\n",
       "    </tr>\n",
       "    <tr>\n",
       "      <th>2</th>\n",
       "      <td>Donne Biriyani House</td>\n",
       "      <td>Indiranagar, Bangalore</td>\n",
       "      <td>Yes</td>\n",
       "      <td>Yes</td>\n",
       "      <td>Yes</td>\n",
       "      <td>No</td>\n",
       "      <td>3.9</td>\n",
       "      <td>411</td>\n",
       "      <td>3.5</td>\n",
       "      <td>33200</td>\n",
       "      <td>300</td>\n",
       "    </tr>\n",
       "    <tr>\n",
       "      <th>3</th>\n",
       "      <td>Domino's Pizza</td>\n",
       "      <td>Indiranagar, Bangalore</td>\n",
       "      <td>Yes</td>\n",
       "      <td>Yes</td>\n",
       "      <td>Yes</td>\n",
       "      <td>No</td>\n",
       "      <td>2.4</td>\n",
       "      <td>422</td>\n",
       "      <td>4.4</td>\n",
       "      <td>8205</td>\n",
       "      <td>400</td>\n",
       "    </tr>\n",
       "    <tr>\n",
       "      <th>4</th>\n",
       "      <td>KFC</td>\n",
       "      <td>Indiranagar, Bangalore</td>\n",
       "      <td>Yes</td>\n",
       "      <td>Yes</td>\n",
       "      <td>Yes</td>\n",
       "      <td>No</td>\n",
       "      <td>2.8</td>\n",
       "      <td>673</td>\n",
       "      <td>4.0</td>\n",
       "      <td>9148</td>\n",
       "      <td>400</td>\n",
       "    </tr>\n",
       "  </tbody>\n",
       "</table>\n",
       "</div>"
      ],
      "text/plain": [
       "                   Name                    Area IsHomeDelivery isTakeaway  \\\n",
       "0        Sri Udupi Park  Indiranagar, Bangalore            Yes        Yes   \n",
       "1         Meghana Foods  Indiranagar, Bangalore            Yes        Yes   \n",
       "2  Donne Biriyani House  Indiranagar, Bangalore            Yes        Yes   \n",
       "3        Domino's Pizza  Indiranagar, Bangalore            Yes        Yes   \n",
       "4                   KFC  Indiranagar, Bangalore            Yes        Yes   \n",
       "\n",
       "  isIndoorSeating isVegOnly  Dinner Ratings  Dinner Reviews  Delivery Ratings  \\\n",
       "0             Yes       Yes             4.0             462               4.1   \n",
       "1             Yes        No             4.3            1654               4.3   \n",
       "2             Yes        No             3.9             411               3.5   \n",
       "3             Yes        No             2.4             422               4.4   \n",
       "4             Yes        No             2.8             673               4.0   \n",
       "\n",
       "   Delivery Reviews  AverageCost  \n",
       "0             16000          450  \n",
       "1             28600          700  \n",
       "2             33200          300  \n",
       "3              8205          400  \n",
       "4              9148          400  "
      ]
     },
     "execution_count": 15,
     "metadata": {},
     "output_type": "execute_result"
    }
   ],
   "source": [
    "data.head()"
   ]
  },
  {
   "cell_type": "markdown",
   "id": "3a81e64c-3fe5-4032-bbba-0ea068d4455d",
   "metadata": {},
   "source": [
    "#### Data Visualization"
   ]
  },
  {
   "cell_type": "code",
   "execution_count": 16,
   "id": "0e016897-e1ad-4189-97ee-760efa0aca08",
   "metadata": {},
   "outputs": [
    {
     "data": {
      "text/plain": [
       "Text(0.5, 1.0, 'Distribution of Home Delivery Availability')"
      ]
     },
     "execution_count": 16,
     "metadata": {},
     "output_type": "execute_result"
    },
    {
     "data": {
      "image/png": "[encoded data removed]",
      "text/plain": [
       "<Figure size 400x400 with 1 Axes>"
      ]
     },
     "metadata": {},
     "output_type": "display_data"
    }
   ],
   "source": [
    "home_delivery_counts = data['IsHomeDelivery'].value_counts()\n",
    "\n",
    "plt.figure(figsize=(4,4))\n",
    "plt.pie(home_delivery_counts, labels=home_delivery_counts.index, autopct='%.1f%%', startangle=60)\n",
    "\n",
    "plt.title('Distribution of Home Delivery Availability')"
   ]
  },
  {
   "cell_type": "markdown",
   "id": "e0c0a6c4-da19-4558-b9ae-7048c8323db4",
   "metadata": {},
   "source": [
    "##### CONCLUSION: The Majority of the restaurants offer home delivery."
   ]
  },
  {
   "cell_type": "code",
   "execution_count": 17,
   "id": "51d4ed59-3b8d-42b8-bc1f-ec2102d5156b",
   "metadata": {},
   "outputs": [
    {
     "data": {
      "text/plain": [
       "Text(0.5, 1.0, 'Distribution of Take Away Availability')"
      ]
     },
     "execution_count": 17,
     "metadata": {},
     "output_type": "execute_result"
    },
    {
     "data": {
      "image/png": "[encoded data removed]",
      "text/plain": [
       "<Figure size 400x400 with 1 Axes>"
      ]
     },
     "metadata": {},
     "output_type": "display_data"
    }
   ],
   "source": [
    "take_away_counts = data['isTakeaway'].value_counts()\n",
    "\n",
    "plt.figure(figsize=(4, 4))\n",
    "plt.pie(take_away_counts, labels=take_away_counts.index, autopct='%.1f%%', startangle=90)\n",
    "\n",
    "plt.title('Distribution of Take Away Availability')"
   ]
  },
  {
   "cell_type": "markdown",
   "id": "95889e81-4714-465f-a5b1-b09082d0df96",
   "metadata": {},
   "source": [
    "##### CONCLUSION: It is reflected that 66% restaurants offer take away facility. However, 34% restaurants do not offer take away facility."
   ]
  },
  {
   "cell_type": "code",
   "execution_count": 18,
   "id": "773e170e-993e-4239-8d4f-260776c585f0",
   "metadata": {},
   "outputs": [
    {
     "name": "stderr",
     "output_type": "stream",
     "text": [
      "C:\\Users\\hrith\\AppData\\Local\\Temp\\ipykernel_5888\\4033455866.py:2: FutureWarning: \n",
      "\n",
      "Passing `palette` without assigning `hue` is deprecated and will be removed in v0.14.0. Assign the `x` variable to `hue` and set `legend=False` for the same effect.\n",
      "\n",
      "  sns.countplot(data = data, x = 'isIndoorSeating', palette = \"viridis\")\n"
     ]
    },
    {
     "data": {
      "text/plain": [
       "Text(0.5, 1.0, 'Distribution of Indoor Seating Availability')"
      ]
     },
     "execution_count": 18,
     "metadata": {},
     "output_type": "execute_result"
    },
    {
     "data": {
      "image/png": "[encoded data removed]",
      "text/plain": [
       "<Figure size 400x400 with 1 Axes>"
      ]
     },
     "metadata": {},
     "output_type": "display_data"
    }
   ],
   "source": [
    "plt.figure(figsize = (4,4))\n",
    "sns.countplot(data = data, x = 'isIndoorSeating', palette = \"viridis\")\n",
    "plt.xlabel(\"Indoor Seating\")\n",
    "plt.ylabel(\"Count\")\n",
    "plt.title(\"Distribution of Indoor Seating Availability\")"
   ]
  },
  {
   "cell_type": "markdown",
   "id": "03a44da5-c269-4112-a707-b0afa2524745",
   "metadata": {},
   "source": [
    "##### CONCLUSION: There are more restaurants without indoor seating compared to those with indoor seating. This suggests that a slightly higher number of restaurants do not offer indoor seating."
   ]
  },
  {
   "cell_type": "code",
   "execution_count": 30,
   "id": "6290d8db-fd63-4613-9cef-e0b74b9efcb2",
   "metadata": {},
   "outputs": [
    {
     "name": "stderr",
     "output_type": "stream",
     "text": [
      "C:\\Users\\hrith\\AppData\\Local\\Temp\\ipykernel_5888\\3338155103.py:2: FutureWarning: \n",
      "\n",
      "Passing `palette` without assigning `hue` is deprecated and will be removed in v0.14.0. Assign the `x` variable to `hue` and set `legend=False` for the same effect.\n",
      "\n",
      "  sns.countplot(data = data, x = 'isVegOnly', palette = \"viridis\")\n"
     ]
    },
    {
     "data": {
      "text/plain": [
       "Text(0.5, 1.0, 'Distribution of Veg Only Restaurants')"
      ]
     },
     "execution_count": 30,
     "metadata": {},
     "output_type": "execute_result"
    },
    {
     "data": {
      "image/png": "[encoded data removed]",
      "text/plain": [
       "<Figure size 400x400 with 1 Axes>"
      ]
     },
     "metadata": {},
     "output_type": "display_data"
    }
   ],
   "source": [
    "plt.figure(figsize = (4,4))\n",
    "sns.countplot(data = data, x = 'isVegOnly', palette = \"viridis\")\n",
    "plt.xlabel(\"Veg Only Restaurant\")\n",
    "plt.ylabel(\"Count\")\n",
    "plt.title(\"Distribution of Veg Only Restaurants\")"
   ]
  },
  {
   "cell_type": "markdown",
   "id": "f21ce8bd-f9bd-4c17-b8ad-43e9273a5fc4",
   "metadata": {},
   "source": [
    "##### CONCLUSION: The number of restaurants offering just vegetarian food and the number of restaurants offering non-vegetarian food vary sharply, suggesting that non-vegetarian options are much more common."
   ]
  },
  {
   "cell_type": "code",
   "execution_count": 20,
   "id": "3cf881aa-287f-4f02-9410-9b641e4aa19d",
   "metadata": {},
   "outputs": [
    {
     "data": {
      "text/plain": [
       "Text(0.5, 1.0, 'Distribution of Dinner Rating')"
      ]
     },
     "execution_count": 20,
     "metadata": {},
     "output_type": "execute_result"
    },
    {
     "data": {
      "image/png": "[encoded data removed]",
      "text/plain": [
       "<Figure size 400x400 with 1 Axes>"
      ]
     },
     "metadata": {},
     "output_type": "display_data"
    }
   ],
   "source": [
    "plt.figure(figsize = (4,4))\n",
    "sns.histplot(data = data, x = 'Dinner Ratings', bins = 10)\n",
    "plt.title(\"Distribution of Dinner Rating\")"
   ]
  },
  {
   "cell_type": "markdown",
   "id": "bb64b7a4-51ba-41f2-9979-a452282c95e5",
   "metadata": {},
   "source": [
    "##### CONCLUSION: The majority of dinner ratings cluster around 3.5 to 4.0, indicating that most diners rated their experience positively."
   ]
  },
  {
   "cell_type": "code",
   "execution_count": 37,
   "id": "4b570da6-9f01-4481-8c94-18c907e719ad",
   "metadata": {},
   "outputs": [
    {
     "name": "stderr",
     "output_type": "stream",
     "text": [
      "C:\\Users\\hrith\\AppData\\Local\\Temp\\ipykernel_5888\\2661782263.py:2: FutureWarning: \n",
      "\n",
      "Passing `palette` without assigning `hue` is deprecated and will be removed in v0.14.0. Assign the `y` variable to `hue` and set `legend=False` for the same effect.\n",
      "\n",
      "  sns.violinplot(data = data, x = 'Delivery Ratings', palette = \"viridis\")\n"
     ]
    },
    {
     "data": {
      "text/plain": [
       "Text(0.5, 1.0, 'Distribution of Delivery Rating')"
      ]
     },
     "execution_count": 37,
     "metadata": {},
     "output_type": "execute_result"
    },
    {
     "data": {
      "image/png": "[encoded data removed]",
      "text/plain": [
       "<Figure size 400x400 with 1 Axes>"
      ]
     },
     "metadata": {},
     "output_type": "display_data"
    }
   ],
   "source": [
    "plt.figure(figsize = (4,4))\n",
    "sns.violinplot(data = data, x = 'Delivery Ratings', palette = \"viridis\")\n",
    "plt.title(\"Distribution of Delivery Rating\")"
   ]
  },
  {
   "cell_type": "markdown",
   "id": "f2061885-77fe-40c6-a52d-3419105559f2",
   "metadata": {},
   "source": [
    "##### CONCLUSION: The majority of delivery ratings is 4.0, showing that most customers rated their delivery experience positively."
   ]
  },
  {
   "cell_type": "code",
   "execution_count": 31,
   "id": "fc0f5edd-d53e-4062-af96-796a1973f8e4",
   "metadata": {},
   "outputs": [
    {
     "name": "stderr",
     "output_type": "stream",
     "text": [
      "C:\\Users\\hrith\\AppData\\Local\\Temp\\ipykernel_5888\\4076378122.py:2: FutureWarning: \n",
      "\n",
      "Passing `palette` without assigning `hue` is deprecated and will be removed in v0.14.0. Assign the `x` variable to `hue` and set `legend=False` for the same effect.\n",
      "\n",
      "  sns.boxplot(x = 'isVegOnly', y = 'Dinner Ratings', data = data, palette = \"viridis\")\n"
     ]
    },
    {
     "data": {
      "text/plain": [
       "Text(0.5, 0, 'Veg Only Restaurants')"
      ]
     },
     "execution_count": 31,
     "metadata": {},
     "output_type": "execute_result"
    },
    {
     "data": {
      "image/png": "[encoded data removed]",
      "text/plain": [
       "<Figure size 400x400 with 1 Axes>"
      ]
     },
     "metadata": {},
     "output_type": "display_data"
    }
   ],
   "source": [
    "plt.figure(figsize = (4,4))\n",
    "sns.boxplot(x = 'isVegOnly', y = 'Dinner Ratings', data = data, palette = \"viridis\")\n",
    "plt.xlabel(\"Veg Only Restaurants\")"
   ]
  },
  {
   "cell_type": "markdown",
   "id": "d5c9dcfe-ccfb-4f16-95f6-9a7d79454aaf",
   "metadata": {},
   "source": [
    "##### CONCLUSION: Both types of restaurants have similar median dinner ratings, around 3.75."
   ]
  },
  {
   "cell_type": "code",
   "execution_count": 32,
   "id": "8164e276-5cf0-421d-b24a-f2e0982b0411",
   "metadata": {},
   "outputs": [
    {
     "name": "stderr",
     "output_type": "stream",
     "text": [
      "C:\\Users\\hrith\\AppData\\Local\\Temp\\ipykernel_5888\\1571985887.py:2: FutureWarning: \n",
      "\n",
      "Passing `palette` without assigning `hue` is deprecated and will be removed in v0.14.0. Assign the `x` variable to `hue` and set `legend=False` for the same effect.\n",
      "\n",
      "  sns.boxplot(x = 'isVegOnly', y = 'Delivery Ratings', data = data, palette = \"viridis\")\n"
     ]
    },
    {
     "data": {
      "text/plain": [
       "Text(0.5, 0, 'Veg Only Restaurants')"
      ]
     },
     "execution_count": 32,
     "metadata": {},
     "output_type": "execute_result"
    },
    {
     "data": {
      "image/png": "[encoded data removed]",
      "text/plain": [
       "<Figure size 400x400 with 1 Axes>"
      ]
     },
     "metadata": {},
     "output_type": "display_data"
    }
   ],
   "source": [
    "plt.figure(figsize = (4,4))\n",
    "sns.boxplot(x = 'isVegOnly', y = 'Delivery Ratings', data = data, palette = \"viridis\")\n",
    "plt.xlabel(\"Veg Only Restaurants\")"
   ]
  },
  {
   "cell_type": "markdown",
   "id": "5f31bbd0-2f7e-4054-8ec2-3754eccbc179",
   "metadata": {},
   "source": [
    "##### CONCLUSION: Vegetarian restaurants have a slightly higher median than non-vegetarian restaurants, non-vegetarian restaurants show more variability and have more low-rating outliers."
   ]
  },
  {
   "cell_type": "code",
   "execution_count": 38,
   "id": "c47be87e-64e4-4201-94c6-1fe55b0b9c80",
   "metadata": {},
   "outputs": [
    {
     "name": "stdout",
     "output_type": "stream",
     "text": [
      "The correlation coefficient between price and service fee: 0.2025903159423599\n"
     ]
    },
    {
     "data": {
      "image/png": "[encoded data removed]",
      "text/plain": [
       "<Figure size 400x400 with 1 Axes>"
      ]
     },
     "metadata": {},
     "output_type": "display_data"
    }
   ],
   "source": [
    "correlation = data['Dinner Ratings'].corr(data['Delivery Ratings'])\n",
    "print(f'The correlation coefficient between price and service fee: {correlation}')\n",
    "\n",
    "plt.figure(figsize=(4, 4))\n",
    "sns.scatterplot(x='Dinner Ratings', y='Delivery Ratings', data=data)\n",
    "plt.title('Dinner rating vs Delivery Rating')\n",
    "plt.xlabel('Dinner Ratings')\n",
    "plt.ylabel('Delivery Rating')\n",
    "plt.show()"
   ]
  },
  {
   "cell_type": "markdown",
   "id": "86762b0b-7796-41ce-bd2e-b52580bf12a6",
   "metadata": {},
   "source": [
    "##### CONCLUSION: There is a positive correlation between dinner and delivery ratings, with most restaurants receiving ratings between 3.0 and 4.5 for both categories."
   ]
  },
  {
   "cell_type": "code",
   "execution_count": 25,
   "id": "e2453820-0f87-4f8a-816b-384211327ec9",
   "metadata": {},
   "outputs": [
    {
     "data": {
      "text/plain": [
       "Text(0.5, 0, 'Average Cost')"
      ]
     },
     "execution_count": 25,
     "metadata": {},
     "output_type": "execute_result"
    },
    {
     "data": {
      "image/png": "[encoded data removed]",
      "text/plain": [
       "<Figure size 400x400 with 1 Axes>"
      ]
     },
     "metadata": {},
     "output_type": "display_data"
    }
   ],
   "source": [
    "plt.figure(figsize = (4,4))\n",
    "sns.histplot(data = data, x = 'AverageCost', bins = 20)\n",
    "plt.title(\"Distribution of Average Cost\")\n",
    "plt.xlabel(\"Average Cost\")"
   ]
  },
  {
   "cell_type": "markdown",
   "id": "c05026b7-9a31-4d10-8a3a-70b8c8556eb1",
   "metadata": {},
   "source": [
    "##### CONCLUSION: Most restaurants have a low average cost, with a few having significantly higher costs, resulting in a right-skewed distribution."
   ]
  }
 ],
 "metadata": {
  "kernelspec": {
   "display_name": "Python 3 (ipykernel)",
   "language": "python",
   "name": "python3"
  },
  "language_info": {
   "codemirror_mode": {
    "name": "ipython",
    "version": 3
   },
   "file_extension": ".py",
   "mimetype": "text/x-python",
   "name": "python",
   "nbconvert_exporter": "python",
   "pygments_lexer": "ipython3",
   "version": "3.12.2"
  }
 },
 "nbformat": 4,
 "nbformat_minor": 5
}
